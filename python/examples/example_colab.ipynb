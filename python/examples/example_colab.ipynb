{
  "cells": [
    {
      "cell_type": "markdown",
      "metadata": {
        "id": "fsKwTnTOPusj"
      },
      "source": [
        "# Installs and imports"
      ]
    },
    {
      "cell_type": "code",
      "execution_count": null,
      "metadata": {
        "colab": {
          "base_uri": "https://localhost:8080/",
          "height": 347
        },
        "id": "bwGMs8qJvzTT",
        "outputId": "f485b820-affc-4c21-eae6-9e749e1e1a15"
      },
      "outputs": [],
      "source": [
        "!wget \"https://fem-on-colab.github.io/releases/vtk-install.sh\" -O \"/tmp/vtk-install.sh\" && bash \"/tmp/vtk-install.sh\"\n",
        "import panel as pn\n",
        "pn.extension(\"vtk\")\n",
        "from google.colab.patches import cv2_imshow"
      ]
    },
    {
      "cell_type": "code",
      "execution_count": null,
      "metadata": {
        "colab": {
          "base_uri": "https://localhost:8080/"
        },
        "id": "FQL0dZNxtx5W",
        "outputId": "2d3f300b-c15e-4966-d238-fcae9e34ea2f"
      },
      "outputs": [],
      "source": [
        "!pip install cupy-cuda12x"
      ]
    },
    {
      "cell_type": "code",
      "execution_count": null,
      "metadata": {
        "colab": {
          "base_uri": "https://localhost:8080/"
        },
        "id": "19xZGlCBXJWd",
        "outputId": "6f2995e6-5d80-4d3b-97cd-6e0cdcbe7507"
      },
      "outputs": [],
      "source": [
        "!pip install cu-automata-3d"
      ]
    },
    {
      "cell_type": "code",
      "execution_count": null,
      "metadata": {
        "id": "_xpk6Fq_X292"
      },
      "outputs": [],
      "source": [
        "from cu_automata_3d import PremadeAutomata, Visualizer"
      ]
    },
    {
      "cell_type": "markdown",
      "metadata": {
        "id": "b1D3ijWhP8W_"
      },
      "source": [
        "# Ising"
      ]
    },
    {
      "cell_type": "code",
      "execution_count": null,
      "metadata": {
        "id": "_Gi6hvXPdjZ8"
      },
      "outputs": [],
      "source": [
        "ising_model = PremadeAutomata.PremadeAutomata.Ising(size=200, infl_radius=1, J=-1, beta=1, up_pct=0.9)"
      ]
    },
    {
      "cell_type": "code",
      "execution_count": null,
      "metadata": {
        "colab": {
          "base_uri": "https://localhost:8080/"
        },
        "id": "CnZBQvMTuYgX",
        "outputId": "a907b675-0999-46ab-f148-6731b98b80ea"
      },
      "outputs": [],
      "source": [
        "states = ising_model.GetStates(20)"
      ]
    },
    {
      "cell_type": "code",
      "execution_count": null,
      "metadata": {
        "colab": {
          "base_uri": "https://localhost:8080/",
          "height": 785
        },
        "id": "-GctTZwDugkE",
        "outputId": "137b61de-4bd1-40f7-b7e4-7e5a52b6bbbc"
      },
      "outputs": [],
      "source": [
        "vs = Visualizer.Visualizer(states, 0, vista_kwargs={'cmap': 'viridis', 'opacity': [0.1, 0, 0.1]}, plotter_kwargs={'notebook': True})\n",
        "vs.Preview(show_kwargs={'jupyter_backend': 'static'})"
      ]
    },
    {
      "cell_type": "code",
      "execution_count": null,
      "metadata": {
        "colab": {
          "base_uri": "https://localhost:8080/"
        },
        "id": "dRKrH0KpujAT",
        "outputId": "11175d26-4d39-45a7-e12e-11ad5f86a370"
      },
      "outputs": [],
      "source": [
        "vs.Render('test-ising.mp4', 2)"
      ]
    },
    {
      "cell_type": "markdown",
      "metadata": {
        "id": "NeRXdie7P-tB"
      },
      "source": [
        "# Lenia\n"
      ]
    },
    {
      "cell_type": "code",
      "execution_count": null,
      "metadata": {
        "id": "tRsYDpu6LXAN"
      },
      "outputs": [],
      "source": [
        "animal = {\"code\":\"1Sp1v\",\"name\":\"Sphaerome ventilans\",\"cname\":\"正球(透)\",\"params\":{\"R\":20,\"T\":10,\"b\":\"1\",\"m\":0.23,\"s\":0.031,\"kn\":1,\"gn\":1},\"cells\":\"20.$20.$20.$20.$20.$20.$20.$9.CH9.$8.pKqUrCqCD7.$7.PrEsRsXrWpQ7.$7.pDrRtHtNsMqF7.$7.MrBsOsUrTpO7.$8.pFqPqVpV8.$10.A9.$20.$20.$20.$20.$20.$20.$20.%20.$20.$20.$20.$20.$8.QqAqGpI8.$7.rHuFvVwDvAsOpD6.$6.rPvXyN3yOyLtLS5.$5.pNuWyN5yOyGrQ5.$5.rHyK6yOyNtO5.$5.rVyL6yOyNuFH4.$5.rEyG6yOyNtL5.$5.pIuQyN5yOxIrL5.$6.rHvOyM2yOyNyKtCL5.$7.qVtRvJvQuNsDS6.$8.FpMpSU8.$20.$20.$20.$20.$20.%20.$20.$20.$20.$7.pUsNuEuLtJrB7.$6.sPyK4yOyMuMpP5.$5.sXyN7yOvVpF4.$4.qSyL9yOtN4.$4.tX10yOyKpI3.$3.EvX10yOyNrC3.$3.QyJ11yOrQ3.$3.CwN10yOyNqX3.$4.tR10yOyJpD3.$4.qKyL9yOtF4.$5.sMyM7yOuWU4.$6.sCyJ4yOyLtWpE5.$7.pGrVtLtSsQqK7.$20.$20.$20.$20.%20.$20.$20.$7.rHuFvVwEvBsPpE6.$5.qEvQ6yOyLsK5.$4.qLyL9yOtH4.$3.MwP10yOyNrM3.$3.sP12yOwH3.$3.wE13yOqJ2.$2.RyM13yOsF2.$2.pFyN13yOsT2.$2.OyM13yOsD2.$3.vS12yOyNqE2.$3.sH12yOxI3.$3.EvW10yOyNrC3.$4.pXyK8yOyNsR4.$5.pOuXyN5yOyFrS5.$7.qOtKvCvIuGrVN6.$20.$20.$20.%20.$20.$7.qJtEuUvDuBrPJ6.$5.qKwA6yOyMsS5.$4.sAyN9yOvA4.$3.rB12yOuL3.$3.yL13yOrI2.$2.rX14yOwA2.$2.vH14yOyNpC.$2.yL15yOqT.$2.yM15yOrJ.$2.yL15yOqR.$2.vB14yOyNW.$2.rQ14yOwU2.$3.yJ13yOqX2.$3.qNyN11yOtW3.$4.rJyM9yOuH4.$5.pSvL6yOyKsA5.$7.pPsItWuFtDqU7.$20.$20.%20.$8.pRrErKqLK7.$5.KtNyM4yOyNvNqM5.$4.rByM9yOtX4.$3.rI12yOuU3.$2.pGyN13yOtA2.$2.uX14yOyNV.$.X16yOtD.$.rW6yOyGxDwWxR6yOyJ.$.tV6yOwVvSvNwIyB5yOyM.$.uL5yOyNwLvHvDvVxP5yOyN.$.tS6yOwXvUvPwKyD5yOyM.$.rR6yOyKxHxDxV6yOyI.$.R16yOsT.$2.uM14yOyMM.$2.UyM13yOsL2.$3.qSyN11yOuE3.$4.qIyL9yOtE4.$6.sRyK4yOyMuPpS5.$8.WqHqNpO8.$20.%20.$6.WsTvU2yLxTuFqO6.$5.uF8yOyJqJ4.$3.pGyL11yOsL3.$2.KyL13yOsA2.$2.vH14yOyNpD.$.qJ7yOyHyC7yOuU.$.uW5yOyGwDuXuTvNxH6yOE$.yM5yOvVtUsTsPtIuXxP5yOrA$I5yOxNuMsOrPrLsCtPwG5yOsV$U5yOxDuCsFrGrDrStGvU5yOtM$G5yOxPuOsQrQrNsEtRwI5yOsS$.yM5yOwBuAsXsTtMvDxT5yOqT$.uN5yOyLwJvGvBvUxN5yOyN.$.qA8yOyK7yOuJ.$2.uR14yOyNQ.$3.yK13yOrJ2.$3.PyJ11yOrR3.$5.tJyN7yOwMpP4.$6.ErVuUyJyKwUtGpR6.$20.%8.NpVqDpF8.$5.JtLyM4yOyNvLqL5.$4.sFyN9yOvGB3.$3.tV12yOyLR2.$2.sV14yOyK2.$.pL16yOtT.$.vI5yOyAvWuSuOvIxB6yOL$D5yOxSuRsSrTrPsGtUwL5yOsO$qW5yOvKsNqUqCpXqLrSuDxS4yOvX$sS4yOyBuCrJpWpFpDpOqRsVwJ4yOyM$tJ4yOxPtQrBpPpAVpHqKsMvW4yOyM$sQ4yOyDuErLpXpGpEpPqSsXwL4yOyL$qR5yOvOsRqXqEqBqOrWuHxW4yOvS$.5yOyAuXtAsArUsMuBwR5yOsH$.uT5yOyIwFvCuVvQxJ5yOyNC$.pB16yOtG.$2.sG14yOwJ2.$3.tD12yOyJD2.$4.rJyM9yOuI4.$6.sNyK4yOyMuLpO5.$9.pApFJ8.%7.pBrRtHtNsMqG7.$5.rMyL6yOyNtWC4.$3.CxD10yOyNrD3.$2.JyL13yOrX2.$2.yJ15yOqG.$.sT6yOxOwLwGxA6yOyL.$.yN4yOyMvKtKsJsFsWuMxE5yOrP$rE5yOvFsIqQpWpTqHrNtWxM4yOwI$uK4yOwVtAqMpFPNWpWrUvE5yO$wT4yOvLrTpPMB.GpCqTtUyJ4yO$yL4yOvBrKpJI2.DVqLtLxX4yO$wL4yOvNrUpQNCAHpDqUtWyL4yO$uF4yOxBtDqPpHRPpAqAsAvI4yOyN$qV5yOvKsNqVqCpXqLrSuExS4yOvX$.yM5yOvStRsQsMtFuTxM5yOrF$.sH6yOxXwUwPxK6yOyK.$2.vW15yOpQ.$3.yK13yOrF2.$4.vA10yOyMqI3.$5.qPyI6yOyMsX5.$7.GqRsGsMrMpI7.%7.rBtWwSxRuTsJX6.$5.tR8yOwHpX4.$3.pXyM11yOtH3.$2.qG14yOuF2.$.IyN15yOsJ.$.vD5yOyCvXuUuPvJxD6yOK$pC5yOwVtVsArCqWrNtAvN5yOtV$tJ4yOxOtQrBpPXVpHqJsLvV4yOyM$yG4yOvGrOpLK2.EXqOtPyD4yO$yN4yOtWqNS4.IpRsJwS4yO$4yOyJtMqGN4.EpKsAwH4yO$yN4yOuAqPS4.IpSsLwU4yO$wS4yOvKrRpOLA.GpBqRtSyH4yO$tB4yOxUtVrFpSpCpApKqNsQwD4yOyM$S5yOxEuEsGrHrErTtHvV5yOtK$.uN5yOyLwIvFvAvTxM5yOyN.$2.yM15yOrS.$2.pPyN13yOtK2.$3.pGyL11yOsL3.$5.sTyM7yOvHpD4.$7.qDsVuMuTtRrJE6.%6.FrWuVyJyKxBtGpS6.$4.GuP8yOyLqT4.$3.qTyN11yOuG3.$2.rC14yOvE2.$.pC16yOtI.$.yD5yOxKvHuFuAuSwL6yOpE$pV5yOwFtHrLqOqLrAsKuVyM4yOuU$uI4yOwWtBqOpGPNWpWrVvF5yO$yL4yOuOrCpDD3.PqEtAxL4yO$4yOyEtHqDK4.BpHrTwC4yO$4yOxRsWpUG5.pBrLvP4yO$4yOyGtJqEL4.CpIrVwE4yO$yL4yOuSrFpEF2.ARqGtExP4yO$uA4yOxEtGqRpJSQpBqCsCvL4yOyN$pM5yOwMtNrQqTqQrGsQvE5yOuJ$.xC5yOxTvQuNuJvDwU6yOR$.NyN15yOsQ.$2.qK14yOuJ2.$3.qByM11yOtJ3.$5.tR8yOyIpW4.$7.qXtUvLvSuQsGV6.%7.rNuLyIyJvJsUpJ6.$5.uG8yOyJqJ4.$3.qKyN11yOtU3.$2.qR14yOuR2.$.S16yOsW.$.vQ5yOxRvOuLuHvBwS6yOU$pN5yOwMtNrRqTqQrGsQvE5yOuK$tW4yOxFtIqTpKTRpCqDsDvM4yOyN$yL4yOuVrIpHG2.BSqItGxS4yO$4yOyKtOqHO4.EpLsBwI4yO$4yOyAtEqAJ4.ApFrQvW4yO$yN3yOyMtPqIO4.FpMsCwK4yO$yL4yOvArKpIH2.CUqLtKxW4yO$tO4yOxKtMqWpNVTpFqGsIvS4yOyN$pE5yOwTtTrWrAqVrLsWvL5yOuA$.vN5yOyCvXuTuPvJxD6yOJ$.GyN15yOsG.$2.qC14yOtX2.$3.pRyM11yOsX3.$5.tHyN7yOwWpO4.$7.qOtKvBvIuGrVN6.%7.pXsQuHuOtMrEA6.$5.sMyM7yOuXV4.$3.WyL11yOsC3.$2.pFyN13yOsX2.$2.yM15yOrF.$.tU6yOwUvRvMwHyA5yOyM.$D5yOxSuRsSrTrPsGtTwK5yOsQ$sE4yOyLuLrSqFpLpIpTrAtFwS4yOyL$vM4yOwDsIqBUHFNpKrGuK5yO$yL4yOuRrFpFF2.ARqGtDxO4yO$yM4yOuHqVXB3.MpXsRxE4yO$yL4yOuTrGpFF2.ARqHtFxQ4yO$vH4yOwGsLqDVIGOpMrIuN5yO$rV5yOuQrWqIpOpLpXrDtKwX4yOxV$.5yOyBuXtAsArUsMuBwR5yOsG$.tI6yOxFwBvVwPyI5yOyM.$2.yG15yOqP.$2.PyM13yOsF2.$3.HwC10yOyNrH3.$5.rPyL6yOyNuAE4.$7.pCrRtHtNsMqG7.%8.pUrGrMqNM7.$5.pQvB6yOyKrV5.$4.tS10yOyKpH3.$3.vL12yOyNqB2.$2.uK14yOyNN.$.qV7yOxWxRyL6yOvW.$.yK5yOwVuTtRtNuGvX6yOpU$pJ5yOwPtQrUqWqTrIsTvH5yOuG$sJ4yOyHuIrPqCpJpGpRqVtCwO4yOyL$uI4yOwWtBqOpGQNWpWrVvF5yO$uX4yOwLsPqGpALJRpPrMuS5yO$uF4yOwXtCqPpHQOXpXrWvG5yO$sE4yOyKuLrRqEpLpIpTqXtFwS4yOyL$pD5yOwUtUrXrBqWrMsXvM5yOtW$.yJ5yOxEvBtXtTuMwF6yOpK$.qJ7yOyGyB7yOuV.$2.tU14yOyMB.$3.uR12yOyMpJ2.$4.sX10yOvXO3.$5.WuDyN5yOxVrA5.$8.pAqJqOpQ8.%20.$6.qRuWyM2yOyNwHsMB5.$4.pOyJ8yOyNsI4.$3.rC12yOuN3.$2.qE14yOuC2.$2.yL15yOrB.$.sI6yOxXwTwPxJ6yOyK.$.yL5yOwSuQtOtKuCvTyL5yOqA$L5yOxKuKsMrNrJsAtNwD5yOtD$qC5yOwBtDrIqMqJqWsGuRyI4yOvC$qP5yOvOsRrAqFqCqOrVuHxW4yOvS$qA5yOwDtErJqNqKqXsIuTyK4yOvA$H5yOxOuNsOrPrMsDtQwG5yOsV$.yK5yOwWuUtStOuHwA6yOpR$.rW6yOyFxBwVxP6yOyJ.$2.yL15yOqN.$2.pQ14yOtL2.$3.qKyN11yOtT3.$4.WvN8yOyMrM4.$6.pWuAyL2yNyMvJrP6.$20.%20.$7.pKsCtQtXsVqO7.$5.qQyJ6yOyMsX5.$4.tN10yOxJpD3.$3.tV12yOyLS2.$2.rO14yOvR2.$2.yM15yOrG.$.rG7yOxOxKyE6yOxN.$.uM5yOyLwJvGvBvUxN5yOyNA$.yK5yOxCvAtWtSuLwE6yOpN$.yL5yOwPuOtMtIuBvRyJ5yOqC$.yJ5yOxEvBtXtTuMwF6yOpL$.uH6yOwNvJvFvXxQ5yOyN.$.qX7yOxTxPyJ6yOwC.$2.yL15yOqU.$2.rD14yOvD2.$3.tH12yOyKG2.$4.sU10yOwXM3.$5.pXvK6yOyLsE5.$7.RrGsTtBsApT7.$20.%20.$20.$6.pJtIxI2yMyLuRrB6.$5.tK8yOvWpQ4.$4.vD10yOyMqL3.$3.uD12yOyLW2.$2.qO14yOuN2.$2.vC14yOyNpC.$.ByN15yOsB.$.pP16yOtX.$.qE7yOyLyH7yOuO.$.pN16yOtV.$2.yM15yOrU.$2.uT14yOyNT.$2.qF14yOuC2.$3.tO12yOyLM2.$4.uM10yOyLpV3.$5.sRyN7yOvEpB4.$6.RsOvN2yLwJtWqH6.$20.$20.%20.$20.$8.KpRpXpB8.$6.qRuWyM2yOyNyJsMB5.$5.tP8yOyIpU4.$4.uA10yOyLpL3.$3.rQ12yOvF3.$3.yJ13yOqT2.$2.qD14yOuA2.$2.rW14yOwB2.$2.sN14yOyJ2.$2.rU14yOxK2.$2.pX14yOtT2.$3.yD13yOqM2.$3.rH12yOuT3.$4.tL10yOyJpB3.$5.tByN7yOvNpH4.$6.qCuFyL2yNyMwArU6.$9.pBpGJ8.$20.$20.%20.$20.$20.$8.OpWqDpF8.$6.pStTyK2yNyLvErK6.$5.rGxP6yOyNtP5.$4.qIyL9yOtE4.$4.uU10yOyMqF3.$3.qAyM11yOtI3.$3.rT12yOvI3.$3.sK12yOwA3.$3.rR12yOvG3.$3.pUyM11yOtD3.$4.uN10yOyLpW3.$4.qAyJ8yOyNsS4.$5.qTwJ6yOyMtC5.$6.pFtEwF2yMyEuNqV6.$8.BpHpMP8.$20.$20.$20.%20.$20.$20.$20.$10.D9.$7.qEsWuNuUtSrJE6.$6.rRyFyN3yOyLtOV5.$5.qTyJ6yOyMtD5.$5.uA8yOyJqE4.$4.pHyD8yOyMrX4.$4.pUyK8yOyNsO4.$4.pFxW8yOyMrV4.$5.tT8yOyIpX4.$5.qMyG6yOyMsU5.$6.rIwRyN3yOyKtEN5.$7.pRsLuBuItGqW7.$20.$20.$20.$20.$20.%20.$20.$20.$20.$20.$20.$9.NS9.$7.PrEsRsXrWpR7.$7.rMuKwCwJvGsTpI6.$6.pKtKwL2yMyLuTrC6.$6.pXuByL2yNyMvKrQ6.$6.pItHwI2yMyLuQrA6.$7.rHuFvVwEvBsPpE6.$7.JqVsKsQrPpL7.$9.GL9.$20.$20.$20.$20.$20.$20.!\"}"
      ]
    },
    {
      "cell_type": "code",
      "execution_count": null,
      "metadata": {
        "colab": {
          "base_uri": "https://localhost:8080/"
        },
        "id": "XyoL0p09QNEh",
        "outputId": "abb039b9-c7d4-4465-88a1-a1bd4a5d6ec3"
      },
      "outputs": [],
      "source": [
        "lenia = PremadeAutomata.PremadeAutomata.Lenia(animal, pad=20)\n",
        "states = lenia.GetStates(30)"
      ]
    },
    {
      "cell_type": "code",
      "execution_count": null,
      "metadata": {
        "colab": {
          "base_uri": "https://localhost:8080/",
          "height": 785
        },
        "id": "hEsSYc4bQUbY",
        "outputId": "fc70e234-b529-427e-ec77-830c6442f819"
      },
      "outputs": [],
      "source": [
        "vs = Visualizer.Visualizer(states, 0, vista_kwargs={'cmap': 'spectral', 'opacity': [0, 0.1, 0.1, 0.1]}, plotter_kwargs={'notebook': True})\n",
        "vs.Preview(show_kwargs={'jupyter_backend': 'static'})"
      ]
    },
    {
      "cell_type": "code",
      "execution_count": null,
      "metadata": {
        "colab": {
          "base_uri": "https://localhost:8080/"
        },
        "id": "f8Y_hOuEQZbE",
        "outputId": "0c557a8e-d496-4f95-c316-62e881a3adc8"
      },
      "outputs": [],
      "source": [
        "vs.Render('test-lenia.mp4', 5)"
      ]
    },
    {
      "cell_type": "code",
      "execution_count": null,
      "metadata": {
        "id": "VKO73I25Q2Ci"
      },
      "outputs": [],
      "source": []
    }
  ],
  "metadata": {
    "accelerator": "GPU",
    "colab": {
      "gpuType": "T4",
      "provenance": []
    },
    "kernelspec": {
      "display_name": "Python 3",
      "name": "python3"
    },
    "language_info": {
      "name": "python"
    }
  },
  "nbformat": 4,
  "nbformat_minor": 0
}
